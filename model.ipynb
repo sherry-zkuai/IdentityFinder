{
 "cells": [
  {
   "cell_type": "code",
   "execution_count": 1,
   "metadata": {},
   "outputs": [],
   "source": [
    "import os\n",
    "import io\n",
    "import platform\n",
    "import sklearn\n",
    "import numpy as np\n",
    "from sklearn.model_selection import train_test_split\n",
    "import sklearn.datasets as datasets\n",
    "import random\n",
    "import pandas as pd\n",
    "\n",
    "import torch\n",
    "import torch.nn as nn\n",
    "import torch.optim as optim\n",
    "import torch.utils.data as data\n",
    "from torch.utils.data.dataset import Dataset\n",
    "import torch.nn.functional as F\n",
    "from torch.autograd import Variable\n",
    "\n",
    "import torchvision\n",
    "import torchvision.datasets as datasets\n",
    "import torchvision.transforms as transforms\n",
    "\n",
    "from PIL import Image\n",
    "from PIL import ImageOps"
   ]
  },
  {
   "cell_type": "code",
   "execution_count": 2,
   "metadata": {},
   "outputs": [],
   "source": [
    "FILE_PATH='./LAG/'\n",
    "index=[]\n",
    "def load_data():\n",
    "    data=[]\n",
    "    for directory in os.listdir(FILE_PATH):\n",
    "        if not(directory.startswith('.')):\n",
    "            young=[]\n",
    "            old=[]\n",
    "            temp=[]\n",
    "            path=FILE_PATH+directory\n",
    "            for g_img in os.listdir(path):\n",
    "                path1=path+'/'+g_img\n",
    "                copy_g=g_img\n",
    "                if not(g_img.startswith('.')) and os.path.splitext(copy_g)[1]=='.png':\n",
    "                    old.append(Image.open(path1).convert('RGB'))\n",
    "                elif not(g_img.startswith('.')):\n",
    "                    for y_img in os.listdir(path1):\n",
    "                        if not (y_img.startswith('.')):\n",
    "                            young.append(Image.open(path1+'/'+y_img).convert('RGB'))\n",
    "            temp.append(old)\n",
    "            temp.append(young)\n",
    "            data.append(temp)\n",
    "    return data"
   ]
  },
  {
   "cell_type": "code",
   "execution_count": 3,
   "metadata": {},
   "outputs": [],
   "source": [
    "data=load_data()"
   ]
  },
  {
   "cell_type": "code",
   "execution_count": 4,
   "metadata": {},
   "outputs": [],
   "source": [
    "dataset=[]\n",
    "for i in range(0,len(data)):\n",
    "    olds=data[i][0]\n",
    "    youngs=data[i][1]\n",
    "    for old in olds:\n",
    "        for young in youngs:\n",
    "            temp=[transforms.ToTensor()(old),transforms.ToTensor()(young)]\n",
    "            dataset.append(temp)"
   ]
  },
  {
   "cell_type": "code",
   "execution_count": 5,
   "metadata": {},
   "outputs": [
    {
     "data": {
      "text/plain": [
       "[tensor([[[ 0.9176,  0.9137,  0.9098,  ...,  0.0000,  0.0000,  0.0000],\n",
       "          [ 0.9176,  0.9137,  0.9098,  ...,  0.0000,  0.0000,  0.0000],\n",
       "          [ 0.9176,  0.9176,  0.9137,  ...,  0.0000,  0.0000,  0.0000],\n",
       "          ...,\n",
       "          [ 0.1333,  0.1412,  0.1255,  ...,  0.2039,  0.1922,  0.2196],\n",
       "          [ 0.1412,  0.1333,  0.1059,  ...,  0.2118,  0.2118,  0.2039],\n",
       "          [ 0.2000,  0.1647,  0.1020,  ...,  0.2000,  0.2353,  0.2078]],\n",
       " \n",
       "         [[ 0.9176,  0.9137,  0.9098,  ...,  0.0000,  0.0000,  0.0000],\n",
       "          [ 0.9176,  0.9137,  0.9098,  ...,  0.0000,  0.0000,  0.0000],\n",
       "          [ 0.9176,  0.9176,  0.9137,  ...,  0.0000,  0.0000,  0.0000],\n",
       "          ...,\n",
       "          [ 0.1333,  0.1412,  0.1255,  ...,  0.1216,  0.1059,  0.1255],\n",
       "          [ 0.1412,  0.1333,  0.1059,  ...,  0.1216,  0.1216,  0.1137],\n",
       "          [ 0.2000,  0.1647,  0.1020,  ...,  0.1098,  0.1451,  0.1176]],\n",
       " \n",
       "         [[ 0.9176,  0.9137,  0.9098,  ...,  0.0000,  0.0000,  0.0000],\n",
       "          [ 0.9176,  0.9137,  0.9098,  ...,  0.0000,  0.0000,  0.0000],\n",
       "          [ 0.9176,  0.9176,  0.9137,  ...,  0.0000,  0.0000,  0.0000],\n",
       "          ...,\n",
       "          [ 0.1333,  0.1412,  0.1255,  ...,  0.0667,  0.0510,  0.0745],\n",
       "          [ 0.1412,  0.1333,  0.1059,  ...,  0.0667,  0.0667,  0.0588],\n",
       "          [ 0.2000,  0.1647,  0.1020,  ...,  0.0510,  0.0824,  0.0627]]]),\n",
       " tensor([[[ 0.9294,  0.9176,  0.9176,  ...,  0.8941,  0.8941,  0.9020],\n",
       "          [ 0.9529,  0.9451,  0.9294,  ...,  0.8980,  0.9020,  0.9098],\n",
       "          [ 0.9333,  0.9333,  0.9294,  ...,  0.9059,  0.9098,  0.9137],\n",
       "          ...,\n",
       "          [ 0.1647,  0.1608,  0.1373,  ...,  0.0353,  0.5098,  0.8745],\n",
       "          [ 0.0941,  0.0863,  0.0745,  ...,  0.0275,  0.5020,  0.8627],\n",
       "          [ 0.1373,  0.1451,  0.1843,  ...,  0.0275,  0.5020,  0.8510]],\n",
       " \n",
       "         [[ 0.9294,  0.9176,  0.9176,  ...,  0.8941,  0.8941,  0.9020],\n",
       "          [ 0.9529,  0.9451,  0.9294,  ...,  0.8980,  0.9020,  0.9098],\n",
       "          [ 0.9333,  0.9333,  0.9294,  ...,  0.9059,  0.9098,  0.9137],\n",
       "          ...,\n",
       "          [ 0.1647,  0.1608,  0.1373,  ...,  0.0353,  0.4941,  0.8588],\n",
       "          [ 0.0941,  0.0863,  0.0745,  ...,  0.0275,  0.4902,  0.8510],\n",
       "          [ 0.1373,  0.1451,  0.1843,  ...,  0.0275,  0.4980,  0.8510]],\n",
       " \n",
       "         [[ 0.9294,  0.9176,  0.9176,  ...,  0.8941,  0.8941,  0.9020],\n",
       "          [ 0.9529,  0.9451,  0.9294,  ...,  0.8980,  0.9020,  0.9098],\n",
       "          [ 0.9333,  0.9333,  0.9294,  ...,  0.9059,  0.9098,  0.9137],\n",
       "          ...,\n",
       "          [ 0.1647,  0.1608,  0.1373,  ...,  0.0353,  0.4824,  0.8510],\n",
       "          [ 0.0941,  0.0863,  0.0745,  ...,  0.0275,  0.4824,  0.8471],\n",
       "          [ 0.1373,  0.1451,  0.1843,  ...,  0.0275,  0.4941,  0.8510]]])]"
      ]
     },
     "execution_count": 5,
     "metadata": {},
     "output_type": "execute_result"
    }
   ],
   "source": [
    "dataset[0]"
   ]
  },
  {
   "cell_type": "code",
   "execution_count": 6,
   "metadata": {},
   "outputs": [],
   "source": [
    "train,test=train_test_split(dataset,test_size=0.2,shuffle=True)"
   ]
  },
  {
   "cell_type": "code",
   "execution_count": 7,
   "metadata": {},
   "outputs": [],
   "source": [
    "train,valid=train_test_split(train,test_size=0.25,shuffle=True)"
   ]
  },
  {
   "cell_type": "code",
   "execution_count": 8,
   "metadata": {},
   "outputs": [],
   "source": [
    "class CNN(nn.Module):\n",
    "    def __init__(self):\n",
    "        super(CNN,self).__init__()\n",
    "        self.cl1=nn.Conv2d(3,12,kernel_size=5,padding=2) # tunable here\n",
    "        self.mp1=nn.MaxPool2d(2)\n",
    "        self.cl2=nn.Conv2d(12,3,kernel_size=5,padding=2)\n",
    "        self.mp2=nn.MaxPool2d(2)\n",
    "        self.fcl=nn.Linear(7500,200) # 12 x 27 x 27\n",
    "        \n",
    "    def forward(self,x):\n",
    "        # x dim: b x 800 x 600 x 3 -> b x 1 x 100 x 100\n",
    "        out=F.relu(self.cl1(x))\n",
    "        out=self.mp1(out)\n",
    "        out=F.relu(self.cl2(out))\n",
    "        out=self.mp2(out)\n",
    "        \n",
    "        # tensor size of b x inchannels x 1 x 1\n",
    "        out=out.view(out.size(0),-1)\n",
    "        out=F.sigmoid(self.fcl(out))\n",
    "        return out"
   ]
  },
  {
   "cell_type": "code",
   "execution_count": 9,
   "metadata": {},
   "outputs": [],
   "source": [
    "class ContrastiveLoss(torch.nn.Module):\n",
    "    \"\"\"\n",
    "    Contrastive loss function.\n",
    "    Based on: http://yann.lecun.com/exdb/publis/pdf/hadsell-chopra-lecun-06.pdf\n",
    "    \"\"\"\n",
    "\n",
    "    def __init__(self, margin=2.0):\n",
    "        super(ContrastiveLoss, self).__init__()\n",
    "        self.margin = margin\n",
    "\n",
    "    def forward(self, output1, output2):\n",
    "        euclidean_distance = F.pairwise_distance(output1, output2)\n",
    "        loss_contrastive = torch.mean(torch.pow(euclidean_distance, 2) +\n",
    "                                      torch.pow(torch.clamp(self.margin - euclidean_distance, min=0.0), 2))\n",
    "\n",
    "#         loss_contrastive=torch.mean(torch.pow(euclidean_distance,2))\n",
    "        return loss_contrastive"
   ]
  },
  {
   "cell_type": "code",
   "execution_count": 10,
   "metadata": {},
   "outputs": [],
   "source": [
    "model=CNN()\n",
    "model.eval()\n",
    "optimizer=optim.Adam(model.parameters(),lr=0.0001,weight_decay=0.0001)\n",
    "criterion=ContrastiveLoss()"
   ]
  },
  {
   "cell_type": "code",
   "execution_count": 11,
   "metadata": {},
   "outputs": [],
   "source": [
    "def trainCNN(epoch,model,train_loader,optimizer):\n",
    "    model.train()\n",
    "    \n",
    "    total_loss=0\n",
    "    correct=0\n",
    "    \n",
    "    for i, (image,label) in enumerate(train_loader):\n",
    "        optimizer.zero_grad() # initialize   \n",
    "        prediction1=model(image)\n",
    "        prediction2=model(label)\n",
    "        loss=criterion(prediction1,prediction2)\n",
    "#         print(loss)\n",
    "        loss.backward()\n",
    "        optimizer.step()\n",
    "        total_loss+=loss # update loss\n",
    "#         pred_classes=prediction1.data.max(1,keepdim=True)[1]\n",
    "#         correct+=pred_classes.eq(prediction2.long().data.view_as(pred_classes)).sum().double()\n",
    "        \n",
    "    mean_loss=total_loss/len(train_loader.dataset)\n",
    "#     acc=correct/len(train_loader.dataset)\n",
    "    \n",
    "    print('Train Epoch: {}   Avg_Loss: {:.5f}'.format(\n",
    "        epoch, mean_loss))\n",
    "    return mean_loss"
   ]
  },
  {
   "cell_type": "code",
   "execution_count": 12,
   "metadata": {},
   "outputs": [],
   "source": [
    "def evalCNN(model,test_loader):\n",
    "    model.eval()\n",
    "    \n",
    "    total_loss=0\n",
    "    correct=0\n",
    "    \n",
    "    for i, (image,label) in enumerate(test_loader):\n",
    "        optimizer.zero_grad() # initialize \n",
    "        prediction1=model(image)\n",
    "        prediction2=model(label)\n",
    "        loss=criterion(prediction1,prediction2)\n",
    "        loss.backward()\n",
    "        optimizer.step()\n",
    "        total_loss+=loss # update loss\n",
    "#         pred_classes=prediction1.data.max(1,keepdim=True)[1]\n",
    "#         correct+=pred_classes.eq(prediction2.long().data.view_as(pred_classes)).sum().double()\n",
    "        \n",
    "    mean_loss=total_loss/len(test_loader.dataset)\n",
    "#     acc=correct/len(test_loader.dataset)\n",
    "    \n",
    "    print('Eval:   Avg_Loss: {:.5f}'.format(\n",
    "         mean_loss))\n",
    "\n",
    "    return mean_loss"
   ]
  },
  {
   "cell_type": "code",
   "execution_count": 13,
   "metadata": {},
   "outputs": [],
   "source": [
    "def save_model(epoch, model, path='./'):\n",
    "    filename=path+'model.pt'\n",
    "    torch.save(model.state_dict(), filename)\n",
    "    return model\n",
    "\n",
    "def load_model(epoch, model, path='./'):\n",
    "#     torch.save(model.state_dict(), filename)\n",
    "    return model"
   ]
  },
  {
   "cell_type": "code",
   "execution_count": 14,
   "metadata": {},
   "outputs": [],
   "source": [
    "class LAGDataset(Dataset):\n",
    "    \"\"\"LAG dataset.\"\"\"\n",
    "\n",
    "    def __init__(self, data):\n",
    "        self.data = data\n",
    "\n",
    "    def __len__(self):\n",
    "        return len(self.data)\n",
    "\n",
    "    def __getitem__(self, idx):\n",
    "#         img_name = os.path.join(self.root_dir,\n",
    "#                                 self.landmarks_frame.iloc[idx, 0])\n",
    "#         image = io.imread(img_name)\n",
    "#         landmarks = self.landmarks_frame.iloc[idx, 1:].as_matrix()\n",
    "#         landmarks = landmarks.astype('float').reshape(-1, 2)\n",
    "#         sample = {'image': image, 'landmarks': landmarks}\n",
    "\n",
    "#         if self.transform:\n",
    "#             sample = self.transform(sample)\n",
    "        \n",
    "        img=self.data[idx]\n",
    "\n",
    "        return (img[0],img[1])"
   ]
  },
  {
   "cell_type": "code",
   "execution_count": 15,
   "metadata": {},
   "outputs": [],
   "source": [
    "train_set=LAGDataset(train)\n",
    "valid_set=LAGDataset(valid)\n",
    "test_set=LAGDataset(test)"
   ]
  },
  {
   "cell_type": "code",
   "execution_count": 16,
   "metadata": {},
   "outputs": [],
   "source": [
    "BATCH_SIZE=100\n",
    "train_loader=torch.utils.data.DataLoader(train_set,batch_size=BATCH_SIZE,shuffle=True)\n",
    "valid_loader=torch.utils.data.DataLoader(valid_set,batch_size=BATCH_SIZE,shuffle=True)\n",
    "test_loader=torch.utils.data.DataLoader(test_set,batch_size=BATCH_SIZE,shuffle=True)"
   ]
  },
  {
   "cell_type": "code",
   "execution_count": 17,
   "metadata": {},
   "outputs": [
    {
     "name": "stdout",
     "output_type": "stream",
     "text": [
      "Train Epoch: 1   Avg_Loss: 0.02769\n",
      "Eval:   Avg_Loss: 0.02437\n",
      "Train Epoch: 2   Avg_Loss: 0.02224\n",
      "Eval:   Avg_Loss: 0.02330\n",
      "Train Epoch: 3   Avg_Loss: 0.02159\n",
      "Eval:   Avg_Loss: 0.02283\n",
      "Train Epoch: 4   Avg_Loss: 0.02126\n",
      "Eval:   Avg_Loss: 0.02251\n",
      "Train Epoch: 5   Avg_Loss: 0.02106\n",
      "Eval:   Avg_Loss: 0.02233\n",
      "Train Epoch: 6   Avg_Loss: 0.02090\n",
      "Eval:   Avg_Loss: 0.02217\n",
      "Train Epoch: 7   Avg_Loss: 0.02080\n",
      "Eval:   Avg_Loss: 0.02213\n",
      "Train Epoch: 8   Avg_Loss: 0.02073\n",
      "Eval:   Avg_Loss: 0.02204\n",
      "Train Epoch: 9   Avg_Loss: 0.02068\n",
      "Eval:   Avg_Loss: 0.02198\n",
      "Train Epoch: 10   Avg_Loss: 0.02064\n",
      "Eval:   Avg_Loss: 0.02198\n",
      "\n",
      "\n",
      "\n",
      "Optimization ended.\n",
      "\n"
     ]
    }
   ],
   "source": [
    "num_epoch=10\n",
    "checkpoint_freq=5\n",
    "path=\"./\"\n",
    "\n",
    "train_losses = []\n",
    "test_losses = []\n",
    "\n",
    "train_accuracies = []\n",
    "test_accuracies = []\n",
    "\n",
    "# traininng \n",
    "for epoch in range(1, num_epoch + 1):\n",
    "    \n",
    "    # train() function (see above)\n",
    "    train_loss = trainCNN(epoch, model, train_loader, optimizer)\n",
    "    \n",
    "    # eval() functionn (see above)\n",
    "    test_loss = evalCNN(model, test_loader)    \n",
    "    \n",
    "    # append lists for plotting and printing \n",
    "    train_losses.append(train_loss)    \n",
    "    test_losses.append(test_loss)\n",
    "    \n",
    "#     train_accuracies.append(train_acc)    \n",
    "#     test_accuracies.append(test_acc)\n",
    "    \n",
    "    # Checkpoint\n",
    "    if epoch % checkpoint_freq == 0:\n",
    "        save_model(epoch, model, path)\n",
    "\n",
    "# Last checkpoint\n",
    "save_model(num_epoch, model, path)\n",
    "    \n",
    "print(\"\\n\\n\\nOptimization ended.\\n\") "
   ]
  },
  {
   "cell_type": "code",
   "execution_count": 18,
   "metadata": {},
   "outputs": [],
   "source": [
    "img1=transforms.ToTensor()(Image.open('./LAG/stas_mikhailov/Aprile_01891_1.png').convert('RGB'))\n",
    "img2=transforms.ToTensor()(Image.open('./LAG/stas_mikhailov/y/Aprile_01891_2.png').convert('RGB'))"
   ]
  },
  {
   "cell_type": "code",
   "execution_count": 19,
   "metadata": {},
   "outputs": [],
   "source": [
    "p1=model(img1.unsqueeze(0))\n",
    "p2=model(img2.unsqueeze(0))"
   ]
  },
  {
   "cell_type": "code",
   "execution_count": 20,
   "metadata": {},
   "outputs": [],
   "source": [
    "loss=criterion(p1,p2)"
   ]
  },
  {
   "cell_type": "code",
   "execution_count": 21,
   "metadata": {},
   "outputs": [
    {
     "data": {
      "text/plain": [
       "tensor(2.0030)"
      ]
     },
     "execution_count": 21,
     "metadata": {},
     "output_type": "execute_result"
    }
   ],
   "source": [
    "loss"
   ]
  },
  {
   "cell_type": "code",
   "execution_count": null,
   "metadata": {},
   "outputs": [],
   "source": [
    "total_loss=0\n",
    "for i, (old,young) in enumerate(valid_loader):\n",
    "    prediction1=model(old)\n",
    "    prediction2=model(young)\n",
    "    loss=criterion(prediction1,prediction2)\n",
    "    total_loss+=loss\n",
    "mean_loss=total_loss/len(valid_loader.dataset)\n",
    "print(mean_loss)"
   ]
  },
  {
   "cell_type": "code",
   "execution_count": 3,
   "metadata": {},
   "outputs": [
    {
     "data": {
      "image/png": "[encoded data removed]",
      "text/plain": [
       "<Figure size 432x288 with 1 Axes>"
      ]
     },
     "metadata": {},
     "output_type": "display_data"
    }
   ],
   "source": [
    "import os\n",
    "import io\n",
    "import matplotlib.pyplot as plt\n",
    "\n",
    "train_losses=[0.02769,0.02224,0.02159,0.02126,0.02106,0.02090,0.02080,0.02073,0.02068,0.02064]\n",
    "valid_losses=[0.02437,0.02330,0.02283,0.02251,0.02233,0.02217,0.02213,0.02204,0.02198,0.02198]\n",
    "\n",
    "plt.plot(train_losses, color=\"darkcyan\", label=\"train\")\n",
    "plt.plot(valid_losses, color=\"tomato\",label=\"validation\")\n",
    "plt.show()"
   ]
  },
  {
   "cell_type": "code",
   "execution_count": null,
   "metadata": {},
   "outputs": [],
   "source": []
  }
 ],
 "metadata": {
  "kernelspec": {
   "display_name": "Python 3",
   "language": "python",
   "name": "python3"
  },
  "language_info": {
   "codemirror_mode": {
    "name": "ipython",
    "version": 3
   },
   "file_extension": ".py",
   "mimetype": "text/x-python",
   "name": "python",
   "nbconvert_exporter": "python",
   "pygments_lexer": "ipython3",
   "version": "3.6.5"
  }
 },
 "nbformat": 4,
 "nbformat_minor": 2
}
